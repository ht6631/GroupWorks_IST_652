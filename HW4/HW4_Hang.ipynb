{
 "cells": [
  {
   "cell_type": "markdown",
   "id": "b574527a",
   "metadata": {},
   "source": [
    "# Homework 4"
   ]
  },
  {
   "cell_type": "markdown",
   "id": "c6a4f17a",
   "metadata": {},
   "source": [
    "Submitted by: Hang Tian"
   ]
  },
  {
   "cell_type": "markdown",
   "id": "b8e0dcb8",
   "metadata": {},
   "source": [
    "Submission date: 10/04/23"
   ]
  },
  {
   "cell_type": "markdown",
   "id": "1480b7e4",
   "metadata": {},
   "source": [
    "**Instructions:** You will process and analyze a large data set that contains crimes reported in the city of Chicago from 2018 to 2021.\n",
    "\n",
    "To load the data set and get the *crimes* dataframe correctly configured, execute the cells with the code provided in this notebook. This could take a few minutes after you start the execution of the code cells.\n",
    "\n",
    "Once the *crimes* dataframe has been setup proceed to obtain 2 meaningful data analysis results from processing the *crimes* dataframe. Specific cells have been provided for you to describe the results of each of your data analysis procedures. You can add as many code cells as you want to complete each of your analysis and I also recommend that you add some explanatory cells (use Markdown) to provide some additional text with explanations of your analysis.\n"
   ]
  },
  {
   "cell_type": "code",
   "execution_count": 2,
   "id": "cf08cb30",
   "metadata": {},
   "outputs": [],
   "source": [
    "#EXECUTE THIS CELL to setup the modules you need\n",
    "%matplotlib inline\n",
    "import pandas as pd\n",
    "import numpy as np"
   ]
  },
  {
   "cell_type": "code",
   "execution_count": 1,
   "id": "968c2388",
   "metadata": {},
   "outputs": [],
   "source": [
    "#Defining location of dataset \n",
    "filepath=\"~/datasets/ist652/Crimes/crimes_2018_2021.csv\"\n",
    "localpath='crimes_2018_2021.csv'"
   ]
  },
  {
   "cell_type": "code",
   "execution_count": 30,
   "id": "ec9763fc",
   "metadata": {},
   "outputs": [
    {
     "data": {
      "text/html": [
       "<div>\n",
       "<style scoped>\n",
       "    .dataframe tbody tr th:only-of-type {\n",
       "        vertical-align: middle;\n",
       "    }\n",
       "\n",
       "    .dataframe tbody tr th {\n",
       "        vertical-align: top;\n",
       "    }\n",
       "\n",
       "    .dataframe thead th {\n",
       "        text-align: right;\n",
       "    }\n",
       "</style>\n",
       "<table border=\"1\" class=\"dataframe\">\n",
       "  <thead>\n",
       "    <tr style=\"text-align: right;\">\n",
       "      <th></th>\n",
       "      <th>ID</th>\n",
       "      <th>Case Number</th>\n",
       "      <th>Date</th>\n",
       "      <th>Block</th>\n",
       "      <th>IUCR</th>\n",
       "      <th>Primary Type</th>\n",
       "      <th>Description</th>\n",
       "      <th>Location Description</th>\n",
       "      <th>Arrest</th>\n",
       "      <th>Domestic</th>\n",
       "      <th>...</th>\n",
       "      <th>Ward</th>\n",
       "      <th>Community Area</th>\n",
       "      <th>FBI Code</th>\n",
       "      <th>X Coordinate</th>\n",
       "      <th>Y Coordinate</th>\n",
       "      <th>Year</th>\n",
       "      <th>Updated On</th>\n",
       "      <th>Latitude</th>\n",
       "      <th>Longitude</th>\n",
       "      <th>Location</th>\n",
       "    </tr>\n",
       "  </thead>\n",
       "  <tbody>\n",
       "    <tr>\n",
       "      <th>0</th>\n",
       "      <td>11646166</td>\n",
       "      <td>JC213529</td>\n",
       "      <td>2018-09-01 00:01:00</td>\n",
       "      <td>082XX S INGLESIDE AVE</td>\n",
       "      <td>810</td>\n",
       "      <td>THEFT</td>\n",
       "      <td>OVER $500</td>\n",
       "      <td>RESIDENCE</td>\n",
       "      <td>False</td>\n",
       "      <td>True</td>\n",
       "      <td>...</td>\n",
       "      <td>8.0</td>\n",
       "      <td>44.0</td>\n",
       "      <td>6</td>\n",
       "      <td>NaN</td>\n",
       "      <td>NaN</td>\n",
       "      <td>2018</td>\n",
       "      <td>4/6/2019 16:04</td>\n",
       "      <td>NaN</td>\n",
       "      <td>NaN</td>\n",
       "      <td>NaN</td>\n",
       "    </tr>\n",
       "    <tr>\n",
       "      <th>1</th>\n",
       "      <td>11645648</td>\n",
       "      <td>JC212959</td>\n",
       "      <td>2018-01-01 08:00:00</td>\n",
       "      <td>024XX N MONITOR AVE</td>\n",
       "      <td>1153</td>\n",
       "      <td>DECEPTIVE PRACTICE</td>\n",
       "      <td>FINANCIAL IDENTITY THEFT OVER $ 300</td>\n",
       "      <td>RESIDENCE</td>\n",
       "      <td>False</td>\n",
       "      <td>False</td>\n",
       "      <td>...</td>\n",
       "      <td>30.0</td>\n",
       "      <td>19.0</td>\n",
       "      <td>11</td>\n",
       "      <td>NaN</td>\n",
       "      <td>NaN</td>\n",
       "      <td>2018</td>\n",
       "      <td>4/6/2019 16:04</td>\n",
       "      <td>NaN</td>\n",
       "      <td>NaN</td>\n",
       "      <td>NaN</td>\n",
       "    </tr>\n",
       "    <tr>\n",
       "      <th>2</th>\n",
       "      <td>11645959</td>\n",
       "      <td>JC211511</td>\n",
       "      <td>2018-12-20 16:00:00</td>\n",
       "      <td>045XX N ALBANY AVE</td>\n",
       "      <td>2820</td>\n",
       "      <td>OTHER OFFENSE</td>\n",
       "      <td>TELEPHONE THREAT</td>\n",
       "      <td>RESIDENCE</td>\n",
       "      <td>False</td>\n",
       "      <td>False</td>\n",
       "      <td>...</td>\n",
       "      <td>33.0</td>\n",
       "      <td>14.0</td>\n",
       "      <td>08A</td>\n",
       "      <td>NaN</td>\n",
       "      <td>NaN</td>\n",
       "      <td>2018</td>\n",
       "      <td>4/6/2019 16:04</td>\n",
       "      <td>NaN</td>\n",
       "      <td>NaN</td>\n",
       "      <td>NaN</td>\n",
       "    </tr>\n",
       "    <tr>\n",
       "      <th>3</th>\n",
       "      <td>11645557</td>\n",
       "      <td>JC212685</td>\n",
       "      <td>2018-04-01 00:01:00</td>\n",
       "      <td>080XX S VERNON AVE</td>\n",
       "      <td>1153</td>\n",
       "      <td>DECEPTIVE PRACTICE</td>\n",
       "      <td>FINANCIAL IDENTITY THEFT OVER $ 300</td>\n",
       "      <td>RESIDENCE</td>\n",
       "      <td>False</td>\n",
       "      <td>False</td>\n",
       "      <td>...</td>\n",
       "      <td>6.0</td>\n",
       "      <td>44.0</td>\n",
       "      <td>11</td>\n",
       "      <td>NaN</td>\n",
       "      <td>NaN</td>\n",
       "      <td>2018</td>\n",
       "      <td>4/6/2019 16:04</td>\n",
       "      <td>NaN</td>\n",
       "      <td>NaN</td>\n",
       "      <td>NaN</td>\n",
       "    </tr>\n",
       "    <tr>\n",
       "      <th>4</th>\n",
       "      <td>11646293</td>\n",
       "      <td>JC213749</td>\n",
       "      <td>2018-12-20 15:00:00</td>\n",
       "      <td>023XX N LOCKWOOD AVE</td>\n",
       "      <td>1154</td>\n",
       "      <td>DECEPTIVE PRACTICE</td>\n",
       "      <td>FINANCIAL IDENTITY THEFT $300 AND UNDER</td>\n",
       "      <td>APARTMENT</td>\n",
       "      <td>False</td>\n",
       "      <td>False</td>\n",
       "      <td>...</td>\n",
       "      <td>36.0</td>\n",
       "      <td>19.0</td>\n",
       "      <td>11</td>\n",
       "      <td>NaN</td>\n",
       "      <td>NaN</td>\n",
       "      <td>2018</td>\n",
       "      <td>4/6/2019 16:04</td>\n",
       "      <td>NaN</td>\n",
       "      <td>NaN</td>\n",
       "      <td>NaN</td>\n",
       "    </tr>\n",
       "  </tbody>\n",
       "</table>\n",
       "<p>5 rows × 22 columns</p>\n",
       "</div>"
      ],
      "text/plain": [
       "         ID Case Number                Date                  Block  IUCR  \\\n",
       "0  11646166    JC213529 2018-09-01 00:01:00  082XX S INGLESIDE AVE   810   \n",
       "1  11645648    JC212959 2018-01-01 08:00:00    024XX N MONITOR AVE  1153   \n",
       "2  11645959    JC211511 2018-12-20 16:00:00     045XX N ALBANY AVE  2820   \n",
       "3  11645557    JC212685 2018-04-01 00:01:00     080XX S VERNON AVE  1153   \n",
       "4  11646293    JC213749 2018-12-20 15:00:00   023XX N LOCKWOOD AVE  1154   \n",
       "\n",
       "         Primary Type                              Description  \\\n",
       "0               THEFT                                OVER $500   \n",
       "1  DECEPTIVE PRACTICE      FINANCIAL IDENTITY THEFT OVER $ 300   \n",
       "2       OTHER OFFENSE                         TELEPHONE THREAT   \n",
       "3  DECEPTIVE PRACTICE      FINANCIAL IDENTITY THEFT OVER $ 300   \n",
       "4  DECEPTIVE PRACTICE  FINANCIAL IDENTITY THEFT $300 AND UNDER   \n",
       "\n",
       "  Location Description  Arrest  Domestic  ...  Ward  Community Area  FBI Code  \\\n",
       "0            RESIDENCE   False      True  ...   8.0            44.0         6   \n",
       "1            RESIDENCE   False     False  ...  30.0            19.0        11   \n",
       "2            RESIDENCE   False     False  ...  33.0            14.0       08A   \n",
       "3            RESIDENCE   False     False  ...   6.0            44.0        11   \n",
       "4            APARTMENT   False     False  ...  36.0            19.0        11   \n",
       "\n",
       "   X Coordinate Y Coordinate  Year      Updated On  Latitude Longitude  \\\n",
       "0           NaN          NaN  2018  4/6/2019 16:04       NaN       NaN   \n",
       "1           NaN          NaN  2018  4/6/2019 16:04       NaN       NaN   \n",
       "2           NaN          NaN  2018  4/6/2019 16:04       NaN       NaN   \n",
       "3           NaN          NaN  2018  4/6/2019 16:04       NaN       NaN   \n",
       "4           NaN          NaN  2018  4/6/2019 16:04       NaN       NaN   \n",
       "\n",
       "   Location  \n",
       "0       NaN  \n",
       "1       NaN  \n",
       "2       NaN  \n",
       "3       NaN  \n",
       "4       NaN  \n",
       "\n",
       "[5 rows x 22 columns]"
      ]
     },
     "execution_count": 30,
     "metadata": {},
     "output_type": "execute_result"
    }
   ],
   "source": [
    "#EXECUTE THIS CELL to load the dataset into your environment - THIS WILL TAKE 3 TO 5 MINUTES - be patient\n",
    "# a security warning will appear. You can ignore it.\n",
    "crimes=pd.read_csv(localpath,parse_dates=[2])\n",
    "crimes.head()  #just checking"
   ]
  },
  {
   "cell_type": "markdown",
   "id": "9b523fe3",
   "metadata": {},
   "source": [
    "# Code for data analysis 1\n",
    "\n",
    "You can place the code for your first data analysis result in this section. Add as many code cells as you need."
   ]
  },
  {
   "cell_type": "code",
   "execution_count": 31,
   "id": "6b8f107d",
   "metadata": {},
   "outputs": [
    {
     "name": "stdout",
     "output_type": "stream",
     "text": [
      "<class 'pandas.core.frame.DataFrame'>\n",
      "RangeIndex: 946893 entries, 0 to 946892\n",
      "Data columns (total 22 columns):\n",
      " #   Column                Non-Null Count   Dtype         \n",
      "---  ------                --------------   -----         \n",
      " 0   ID                    946893 non-null  int64         \n",
      " 1   Case Number           946893 non-null  object        \n",
      " 2   Date                  946893 non-null  datetime64[ns]\n",
      " 3   Block                 946893 non-null  object        \n",
      " 4   IUCR                  946893 non-null  object        \n",
      " 5   Primary Type          946893 non-null  object        \n",
      " 6   Description           946893 non-null  object        \n",
      " 7   Location Description  942727 non-null  object        \n",
      " 8   Arrest                946893 non-null  bool          \n",
      " 9   Domestic              946893 non-null  bool          \n",
      " 10  Beat                  946893 non-null  int64         \n",
      " 11  District              946893 non-null  int64         \n",
      " 12  Ward                  946854 non-null  float64       \n",
      " 13  Community Area        946892 non-null  float64       \n",
      " 14  FBI Code              946893 non-null  object        \n",
      " 15  X Coordinate          934034 non-null  float64       \n",
      " 16  Y Coordinate          934034 non-null  float64       \n",
      " 17  Year                  946893 non-null  int64         \n",
      " 18  Updated On            946893 non-null  object        \n",
      " 19  Latitude              934034 non-null  float64       \n",
      " 20  Longitude             934034 non-null  float64       \n",
      " 21  Location              934034 non-null  object        \n",
      "dtypes: bool(2), datetime64[ns](1), float64(6), int64(4), object(9)\n",
      "memory usage: 146.3+ MB\n"
     ]
    }
   ],
   "source": [
    "crimes.info()\n",
    "# It seems there are lots of crime cases without location information, I'll drop those just in case there will be location-related analysis."
   ]
  },
  {
   "cell_type": "code",
   "execution_count": 84,
   "id": "c67fff11",
   "metadata": {},
   "outputs": [
    {
     "data": {
      "text/plain": [
       "934034"
      ]
     },
     "execution_count": 84,
     "metadata": {},
     "output_type": "execute_result"
    }
   ],
   "source": [
    "crimes_ordered=crimes.sort_index(ascending=True)\n",
    "crimes_ordered.drop(crimes_ordered[np.isnan(crimes_ordered['Latitude'])].index, inplace=True)\n",
    "crimes_ordered.set_index(\"Date\",inplace=True)\n",
    "crimes_ordered=crimes_ordered.sort_index(ascending=True)\n",
    "crimes_ordered.shape[0]"
   ]
  },
  {
   "cell_type": "code",
   "execution_count": 77,
   "id": "971a3e1a",
   "metadata": {},
   "outputs": [
    {
     "data": {
      "text/plain": [
       "<AxesSubplot:xlabel='Date'>"
      ]
     },
     "execution_count": 77,
     "metadata": {},
     "output_type": "execute_result"
    },
    {
     "data": {
      "image/png": "[encoded data removed]",
      "text/plain": [
       "<Figure size 640x480 with 1 Axes>"
      ]
     },
     "metadata": {},
     "output_type": "display_data"
    }
   ],
   "source": [
    "# Annual change\n",
    "annual_count=crimes_ordered['Case Number'].resample('Y').count()\n",
    "annual_count.plot()\n",
    "# Case numbers through years is getting less. There is a dramatic drop from 2019 to 2020."
   ]
  },
  {
   "cell_type": "code",
   "execution_count": 76,
   "id": "637523e1",
   "metadata": {},
   "outputs": [
    {
     "data": {
      "text/plain": [
       "<AxesSubplot:xlabel='month'>"
      ]
     },
     "execution_count": 76,
     "metadata": {},
     "output_type": "execute_result"
    },
    {
     "data": {
      "image/png": "[encoded data removed]",
      "text/plain": [
       "<Figure size 640x480 with 1 Axes>"
      ]
     },
     "metadata": {},
     "output_type": "display_data"
    }
   ],
   "source": [
    "# Monthly average change\n",
    "monthly=crimes_ordered['Case Number'].resample('M').count().to_frame()\n",
    "monthly.reset_index(inplace=True)\n",
    "monthly['month']=monthly['Date'].dt.month\n",
    "month_average=monthly.groupby(['month']).agg('mean')\n",
    "month_average.plot()\n",
    "# On average, crime cases count is high from May to October, while summer months (Jult - August) see the peak."
   ]
  },
  {
   "cell_type": "markdown",
   "id": "7ce989a5",
   "metadata": {},
   "source": [
    "## Description of data analysis result 1\n",
    "\n",
    "Use the next cell to describe your data analysis result 1"
   ]
  },
  {
   "cell_type": "markdown",
   "id": "28507f15",
   "metadata": {},
   "source": [
    "### Result 1\n",
    "Gnerally speaking, total crime cases decreases through these years. On average, warmer months have more crime cases."
   ]
  },
  {
   "cell_type": "markdown",
   "id": "656e7a54",
   "metadata": {},
   "source": [
    "# Code for data analysis 2\n",
    "\n",
    "You can place the code for your second data analysis result in this section. Add as many code cells as you need."
   ]
  },
  {
   "cell_type": "code",
   "execution_count": 100,
   "id": "67adcca8",
   "metadata": {},
   "outputs": [
    {
     "name": "stdout",
     "output_type": "stream",
     "text": [
      "The ratio of crime cases having people arrested is 0.1787536642135083\n",
      "There are a total of 34 primary crime types\n",
      "There are only 33 primary crime types involved with people arrested\n",
      "The only crime type through these records not involved with people arrested is RITUALISM\n"
     ]
    }
   ],
   "source": [
    "# What is the crime type that causes higher proportion of people being arrested\n",
    "total_type_list=crimes_ordered['Primary Type'].unique()\n",
    "crimes_arrested=crimes_ordered[crimes_ordered['Arrest']==True]\n",
    "print('The ratio of crime cases having people arrested is',crimes_arrested.shape[0]/crimes_ordered.shape[0])\n",
    "print(f'There are a total of {total_type_list.shape[0]} primary crime types')\n",
    "arrested_types=crimes_arrested['Primary Type'].unique()\n",
    "print(f'There are only {arrested_types.shape[0]} primary crime types involved with people arrested')\n",
    "type_not_seen_arrested=list(set(total_type_list)-set(arrested_types))[0]\n",
    "print(f'The only crime type through these records not involved with people arrested is {type_not_seen_arrested}')"
   ]
  },
  {
   "cell_type": "code",
   "execution_count": 125,
   "id": "77b2079d",
   "metadata": {},
   "outputs": [
    {
     "data": {
      "text/html": [
       "<div>\n",
       "<style scoped>\n",
       "    .dataframe tbody tr th:only-of-type {\n",
       "        vertical-align: middle;\n",
       "    }\n",
       "\n",
       "    .dataframe tbody tr th {\n",
       "        vertical-align: top;\n",
       "    }\n",
       "\n",
       "    .dataframe thead th {\n",
       "        text-align: right;\n",
       "    }\n",
       "</style>\n",
       "<table border=\"1\" class=\"dataframe\">\n",
       "  <thead>\n",
       "    <tr style=\"text-align: right;\">\n",
       "      <th></th>\n",
       "      <th>Proportion</th>\n",
       "    </tr>\n",
       "    <tr>\n",
       "      <th>Primary Type</th>\n",
       "      <th></th>\n",
       "    </tr>\n",
       "  </thead>\n",
       "  <tbody>\n",
       "    <tr>\n",
       "      <th>LIQUOR LAW VIOLATION</th>\n",
       "      <td>1.000000</td>\n",
       "    </tr>\n",
       "    <tr>\n",
       "      <th>PUBLIC INDECENCY</th>\n",
       "      <td>1.000000</td>\n",
       "    </tr>\n",
       "    <tr>\n",
       "      <th>PROSTITUTION</th>\n",
       "      <td>0.998303</td>\n",
       "    </tr>\n",
       "    <tr>\n",
       "      <th>NARCOTICS</th>\n",
       "      <td>0.996731</td>\n",
       "    </tr>\n",
       "    <tr>\n",
       "      <th>GAMBLING</th>\n",
       "      <td>0.994751</td>\n",
       "    </tr>\n",
       "    <tr>\n",
       "      <th>CONCEALED CARRY LICENSE VIOLATION</th>\n",
       "      <td>0.972303</td>\n",
       "    </tr>\n",
       "    <tr>\n",
       "      <th>INTERFERENCE WITH PUBLIC OFFICER</th>\n",
       "      <td>0.942363</td>\n",
       "    </tr>\n",
       "    <tr>\n",
       "      <th>OBSCENITY</th>\n",
       "      <td>0.786611</td>\n",
       "    </tr>\n",
       "    <tr>\n",
       "      <th>WEAPONS VIOLATION</th>\n",
       "      <td>0.652416</td>\n",
       "    </tr>\n",
       "    <tr>\n",
       "      <th>OTHER NARCOTIC VIOLATION</th>\n",
       "      <td>0.600000</td>\n",
       "    </tr>\n",
       "    <tr>\n",
       "      <th>PUBLIC PEACE VIOLATION</th>\n",
       "      <td>0.545435</td>\n",
       "    </tr>\n",
       "    <tr>\n",
       "      <th>CRIMINAL TRESPASS</th>\n",
       "      <td>0.484963</td>\n",
       "    </tr>\n",
       "    <tr>\n",
       "      <th>NON-CRIMINAL (SUBJECT SPECIFIED)</th>\n",
       "      <td>0.333333</td>\n",
       "    </tr>\n",
       "    <tr>\n",
       "      <th>HOMICIDE</th>\n",
       "      <td>0.319496</td>\n",
       "    </tr>\n",
       "    <tr>\n",
       "      <th>BATTERY</th>\n",
       "      <td>0.183443</td>\n",
       "    </tr>\n",
       "    <tr>\n",
       "      <th>OTHER OFFENSE</th>\n",
       "      <td>0.175829</td>\n",
       "    </tr>\n",
       "    <tr>\n",
       "      <th>ASSAULT</th>\n",
       "      <td>0.141387</td>\n",
       "    </tr>\n",
       "    <tr>\n",
       "      <th>SEX OFFENSE</th>\n",
       "      <td>0.122492</td>\n",
       "    </tr>\n",
       "    <tr>\n",
       "      <th>OFFENSE INVOLVING CHILDREN</th>\n",
       "      <td>0.114381</td>\n",
       "    </tr>\n",
       "    <tr>\n",
       "      <th>STALKING</th>\n",
       "      <td>0.093142</td>\n",
       "    </tr>\n",
       "    <tr>\n",
       "      <th>NON-CRIMINAL</th>\n",
       "      <td>0.088889</td>\n",
       "    </tr>\n",
       "    <tr>\n",
       "      <th>ARSON</th>\n",
       "      <td>0.088410</td>\n",
       "    </tr>\n",
       "    <tr>\n",
       "      <th>THEFT</th>\n",
       "      <td>0.081517</td>\n",
       "    </tr>\n",
       "    <tr>\n",
       "      <th>CRIM SEXUAL ASSAULT</th>\n",
       "      <td>0.079498</td>\n",
       "    </tr>\n",
       "    <tr>\n",
       "      <th>ROBBERY</th>\n",
       "      <td>0.074279</td>\n",
       "    </tr>\n",
       "    <tr>\n",
       "      <th>KIDNAPPING</th>\n",
       "      <td>0.056466</td>\n",
       "    </tr>\n",
       "    <tr>\n",
       "      <th>CRIMINAL SEXUAL ASSAULT</th>\n",
       "      <td>0.053818</td>\n",
       "    </tr>\n",
       "    <tr>\n",
       "      <th>CRIMINAL DAMAGE</th>\n",
       "      <td>0.052045</td>\n",
       "    </tr>\n",
       "    <tr>\n",
       "      <th>BURGLARY</th>\n",
       "      <td>0.050738</td>\n",
       "    </tr>\n",
       "    <tr>\n",
       "      <th>MOTOR VEHICLE THEFT</th>\n",
       "      <td>0.048112</td>\n",
       "    </tr>\n",
       "    <tr>\n",
       "      <th>INTIMIDATION</th>\n",
       "      <td>0.044335</td>\n",
       "    </tr>\n",
       "    <tr>\n",
       "      <th>DECEPTIVE PRACTICE</th>\n",
       "      <td>0.033569</td>\n",
       "    </tr>\n",
       "    <tr>\n",
       "      <th>HUMAN TRAFFICKING</th>\n",
       "      <td>0.025000</td>\n",
       "    </tr>\n",
       "  </tbody>\n",
       "</table>\n",
       "</div>"
      ],
      "text/plain": [
       "                                   Proportion\n",
       "Primary Type                                 \n",
       "LIQUOR LAW VIOLATION                 1.000000\n",
       "PUBLIC INDECENCY                     1.000000\n",
       "PROSTITUTION                         0.998303\n",
       "NARCOTICS                            0.996731\n",
       "GAMBLING                             0.994751\n",
       "CONCEALED CARRY LICENSE VIOLATION    0.972303\n",
       "INTERFERENCE WITH PUBLIC OFFICER     0.942363\n",
       "OBSCENITY                            0.786611\n",
       "WEAPONS VIOLATION                    0.652416\n",
       "OTHER NARCOTIC VIOLATION             0.600000\n",
       "PUBLIC PEACE VIOLATION               0.545435\n",
       "CRIMINAL TRESPASS                    0.484963\n",
       "NON-CRIMINAL (SUBJECT SPECIFIED)     0.333333\n",
       "HOMICIDE                             0.319496\n",
       "BATTERY                              0.183443\n",
       "OTHER OFFENSE                        0.175829\n",
       "ASSAULT                              0.141387\n",
       "SEX OFFENSE                          0.122492\n",
       "OFFENSE INVOLVING CHILDREN           0.114381\n",
       "STALKING                             0.093142\n",
       "NON-CRIMINAL                         0.088889\n",
       "ARSON                                0.088410\n",
       "THEFT                                0.081517\n",
       "CRIM SEXUAL ASSAULT                  0.079498\n",
       "ROBBERY                              0.074279\n",
       "KIDNAPPING                           0.056466\n",
       "CRIMINAL SEXUAL ASSAULT              0.053818\n",
       "CRIMINAL DAMAGE                      0.052045\n",
       "BURGLARY                             0.050738\n",
       "MOTOR VEHICLE THEFT                  0.048112\n",
       "INTIMIDATION                         0.044335\n",
       "DECEPTIVE PRACTICE                   0.033569\n",
       "HUMAN TRAFFICKING                    0.025000"
      ]
     },
     "execution_count": 125,
     "metadata": {},
     "output_type": "execute_result"
    }
   ],
   "source": [
    "crimes_arrest_by_type_table=crimes_ordered.groupby(['Primary Type','Arrest'])['Case Number'].count().to_frame()\n",
    "crimes_total_by_type_table=crimes_ordered.groupby(['Primary Type'])['Case Number'].count().to_frame()\n",
    "crimes_arrest_by_type_table.reset_index(inplace=True)\n",
    "crimes_total_by_type_table.reset_index(inplace=True)\n",
    "crimes_total_by_type_table.columns=['Primary Type','Total Case Number']\n",
    "crime_count_table=pd.merge(crimes_arrest_by_type_table,crimes_total_by_type_table,on='Primary Type')\n",
    "crime_count_table.set_index('Primary Type',inplace=True)\n",
    "crime_count_table['Proportion']=crime_count_table['Case Number']/crime_count_table['Total Case Number']\n",
    "crime_arrested_proportion=crime_count_table[crime_count_table['Arrest']==True].sort_values('Proportion',ascending=False).iloc[:,3].to_frame()\n",
    "crime_arrested_proportion\n",
    "# Liquor law violation and public indencency have the highest arrested rate of 100%, \n",
    "# followed by prostitution, narcotics, gambling, concealed carry license violation and interference with public officer\n",
    "# that have a arrested proportion of more than 90%.\n",
    "# The bottom 3 is intimidation, deceptive practice and human trafficking"
   ]
  },
  {
   "cell_type": "markdown",
   "id": "39b74590",
   "metadata": {},
   "source": [
    "## Description of data analysis result 2\n",
    "\n",
    "Use the next cell to describe your data analysis result 2"
   ]
  },
  {
   "cell_type": "markdown",
   "id": "ed2f5122",
   "metadata": {},
   "source": [
    "### Result 2\n",
    "#### About crime types invovled with people arrested\n",
    "The ratio of crime cases involved with people arrested among all the records is 17.9%.\n",
    "There are a total of 34 primary crime types, while only 33 primary crime types are involved with people arrested.\n",
    "The only crime type through these records not involved with people arrested is ritualism.\n",
    "#### Which crime types have higher arrest rate?\n",
    "Liquor law violation and public indencency have the highest arrested rate of 100%, \n",
    "followed by prostitution, narcotics, gambling, concealed carry license violation and interference with public officer\n",
    "that have a arrested proportion of more than 90%.\n",
    "The bottom 3 is intimidation, deceptive practice and human trafficking"
   ]
  },
  {
   "cell_type": "markdown",
   "id": "aed96725",
   "metadata": {},
   "source": [
    "**Note:** PLEASE SUBMIT YOUR HOMEWORK IN *ipynb* AND *pdf* formats. Use the \"Download as\" option in the \"File\" menu to get your download the notebook in those formats."
   ]
  }
 ],
 "metadata": {
  "kernelspec": {
   "display_name": "Python 3 (ipykernel)",
   "language": "python",
   "name": "python3"
  },
  "language_info": {
   "codemirror_mode": {
    "name": "ipython",
    "version": 3
   },
   "file_extension": ".py",
   "mimetype": "text/x-python",
   "name": "python",
   "nbconvert_exporter": "python",
   "pygments_lexer": "ipython3",
   "version": "3.10.5"
  }
 },
 "nbformat": 4,
 "nbformat_minor": 5
}
